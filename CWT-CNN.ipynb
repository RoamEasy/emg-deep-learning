{
 "cells": [
  {
   "cell_type": "markdown",
   "metadata": {},
   "source": [
    "# Load Data "
   ]
  },
  {
   "cell_type": "code",
   "execution_count": 1,
   "metadata": {},
   "outputs": [],
   "source": [
    "import numpy as np\n",
    "import pandas as pd\n",
    "import matplotlib.pyplot as plt\n",
    "import seaborn as sns\n",
    "\n",
    "num_classes = 2\n",
    "\n",
    "X_train = np.load('data/X_train.npy')\n",
    "X_test = np.load('data/X_test.npy')\n",
    "y_train = np.load('data/y_train.npy')\n",
    "y_test = np.load('data/y_test.npy')\n",
    "train_y = np.load('data/train_y.npy')\n",
    "test_y = np.load('data/test_y.npy')\n",
    "max_length = int(np.load('data/max.npy'))"
   ]
  },
  {
   "cell_type": "code",
   "execution_count": 2,
   "metadata": {},
   "outputs": [
    {
     "data": {
      "text/plain": [
       "(364, 1022, 3)"
      ]
     },
     "execution_count": 2,
     "metadata": {},
     "output_type": "execute_result"
    }
   ],
   "source": [
    "X_train.shape"
   ]
  },
  {
   "cell_type": "code",
   "execution_count": 3,
   "metadata": {},
   "outputs": [
    {
     "data": {
      "text/plain": [
       "(364,)"
      ]
     },
     "execution_count": 3,
     "metadata": {},
     "output_type": "execute_result"
    }
   ],
   "source": [
    "y_train.shape"
   ]
  },
  {
   "cell_type": "code",
   "execution_count": 4,
   "metadata": {},
   "outputs": [
    {
     "data": {
      "text/plain": [
       "(41, 1022, 3)"
      ]
     },
     "execution_count": 4,
     "metadata": {},
     "output_type": "execute_result"
    }
   ],
   "source": [
    "X_test.shape"
   ]
  },
  {
   "cell_type": "markdown",
   "metadata": {},
   "source": [
    "# Generate CWT transformations "
   ]
  },
  {
   "cell_type": "code",
   "execution_count": null,
   "metadata": {},
   "outputs": [],
   "source": [
    "import pywt \n",
    "\n",
    "scales = range(1,X_train.shape[1])\n",
    "waveletname = 'morl'\n",
    "train_size = X_train.shape[0]\n",
    "test_size= X_test.shape[0]\n",
    "\n",
    "train_data_cwt = np.ndarray(shape=(train_size, X_train.shape[1]-1, X_train.shape[1]-1, 3))\n",
    "\n",
    "for ii in range(0,train_size):\n",
    "    for jj in range(0,3):\n",
    "        signal = X_train[ii, :, jj]\n",
    "        coeff, freq = pywt.cwt(signal, scales, waveletname, 1)\n",
    "        coeff_ = coeff[:,:X_train.shape[1]-1]\n",
    "        train_data_cwt[ii, :, :, jj] = coeff_\n",
    "\n",
    "test_data_cwt = np.ndarray(shape=(test_size, X_train.shape[1]-1, X_train.shape[1]-1, 3))\n",
    "for ii in range(0,test_size):\n",
    "    for jj in range(0,3):\n",
    "        signal = X_test[ii, :, jj]\n",
    "        coeff, freq = pywt.cwt(signal, scales, waveletname, 1)\n",
    "        coeff_ = coeff[:,:X_train.shape[1]-1]\n",
    "        test_data_cwt[ii, :, :, jj] = coeff_\n",
    "\n",
    "\n",
    "X_train = train_data_cwt\n",
    "X_test = test_data_cwt\n",
    "\n",
    "np.save('X_train', X_train)\n",
    "np.save('X_test', X_test)"
   ]
  },
  {
   "cell_type": "code",
   "execution_count": 5,
   "metadata": {},
   "outputs": [
    {
     "name": "stderr",
     "output_type": "stream",
     "text": [
      "/home/rommeltf/anaconda3/lib/python3.6/site-packages/h5py/__init__.py:36: FutureWarning: Conversion of the second argument of issubdtype from `float` to `np.floating` is deprecated. In future, it will be treated as `np.float64 == np.dtype(float).type`.\n",
      "  from ._conv import register_converters as _register_converters\n",
      "Using TensorFlow backend.\n"
     ]
    }
   ],
   "source": [
    "import keras\n",
    "\n",
    "y_train = keras.utils.to_categorical(y_train, num_classes)\n",
    "y_test = keras.utils.to_categorical(y_test, num_classes)"
   ]
  },
  {
   "cell_type": "code",
   "execution_count": 6,
   "metadata": {},
   "outputs": [],
   "source": [
    "# After CWT transformations \n",
    "\n",
    "X_test = np.load('X_test.npy')\n",
    "X_train = np.load('X_train.npy')"
   ]
  },
  {
   "cell_type": "code",
   "execution_count": 7,
   "metadata": {},
   "outputs": [
    {
     "data": {
      "text/plain": [
       "(364, 1021, 1021, 3)"
      ]
     },
     "execution_count": 7,
     "metadata": {},
     "output_type": "execute_result"
    }
   ],
   "source": [
    "X_train.shape"
   ]
  },
  {
   "cell_type": "code",
   "execution_count": 8,
   "metadata": {},
   "outputs": [
    {
     "data": {
      "text/plain": [
       "(364, 2)"
      ]
     },
     "execution_count": 8,
     "metadata": {},
     "output_type": "execute_result"
    }
   ],
   "source": [
    "y_train.shape"
   ]
  },
  {
   "cell_type": "code",
   "execution_count": 9,
   "metadata": {},
   "outputs": [
    {
     "data": {
      "text/plain": [
       "(41, 1021, 1021, 3)"
      ]
     },
     "execution_count": 9,
     "metadata": {},
     "output_type": "execute_result"
    }
   ],
   "source": [
    "X_test.shape"
   ]
  },
  {
   "cell_type": "code",
   "execution_count": 10,
   "metadata": {},
   "outputs": [
    {
     "data": {
      "text/plain": [
       "(41, 2)"
      ]
     },
     "execution_count": 10,
     "metadata": {},
     "output_type": "execute_result"
    }
   ],
   "source": [
    "y_test.shape"
   ]
  },
  {
   "cell_type": "markdown",
   "metadata": {},
   "source": [
    "# Model with CNN "
   ]
  },
  {
   "cell_type": "code",
   "execution_count": 11,
   "metadata": {},
   "outputs": [
    {
     "name": "stdout",
     "output_type": "stream",
     "text": [
      "Train on 364 samples, validate on 41 samples\n",
      "Epoch 1/10\n",
      "364/364 [==============================] - 59s 161ms/step - loss: 7.8313 - acc: 0.4863 - val_loss: 7.4694 - val_acc: 0.5366\n",
      "Epoch 2/10\n",
      "364/364 [==============================] - 44s 120ms/step - loss: 8.0148 - acc: 0.5027 - val_loss: 7.4694 - val_acc: 0.5366\n",
      "Epoch 3/10\n",
      "364/364 [==============================] - 44s 121ms/step - loss: 8.0148 - acc: 0.5027 - val_loss: 7.4694 - val_acc: 0.5366\n",
      "Epoch 4/10\n",
      "364/364 [==============================] - 44s 121ms/step - loss: 8.0148 - acc: 0.5027 - val_loss: 7.4694 - val_acc: 0.5366\n",
      "Epoch 5/10\n",
      "364/364 [==============================] - 44s 121ms/step - loss: 8.0148 - acc: 0.5027 - val_loss: 7.4694 - val_acc: 0.5366\n",
      "Epoch 6/10\n",
      "364/364 [==============================] - 44s 121ms/step - loss: 8.0148 - acc: 0.5027 - val_loss: 7.4694 - val_acc: 0.5366\n",
      "Epoch 7/10\n",
      "364/364 [==============================] - 44s 121ms/step - loss: 8.0148 - acc: 0.5027 - val_loss: 7.4694 - val_acc: 0.5366\n",
      "Epoch 8/10\n",
      "364/364 [==============================] - 44s 121ms/step - loss: 8.0148 - acc: 0.5027 - val_loss: 7.4694 - val_acc: 0.5366\n",
      "Epoch 9/10\n",
      "364/364 [==============================] - 44s 121ms/step - loss: 8.0148 - acc: 0.5027 - val_loss: 7.4694 - val_acc: 0.5366\n",
      "Epoch 10/10\n",
      "364/364 [==============================] - 44s 121ms/step - loss: 8.0148 - acc: 0.5027 - val_loss: 7.4694 - val_acc: 0.5366\n",
      "Train loss: 8.014767279991737, Train accuracy: 0.5027472527472527\n",
      "Test loss: 7.469361247085944, Test accuracy: 0.536585370214974\n"
     ]
    }
   ],
   "source": [
    "import keras\n",
    "from keras.layers import Dense, Flatten\n",
    "from keras.layers import Conv2D, MaxPooling2D\n",
    "from keras.models import Sequential\n",
    "from keras.callbacks import History \n",
    "history = History()\n",
    "\n",
    "img_x = X_train.shape[1]\n",
    "img_y = X_train.shape[1]\n",
    "img_z = 3\n",
    "input_shape = (img_x, img_y, img_z)\n",
    "\n",
    "batch_size = 16\n",
    "epochs = 10\n",
    "\n",
    "X_train = X_train.astype('float32')\n",
    "X_test = X_test.astype('float32')\n",
    "\n",
    "\n",
    "model = Sequential()\n",
    "model.add(Conv2D(32, kernel_size=(5, 5), strides=(1, 1),\n",
    "                 activation='relu',\n",
    "                 input_shape=input_shape))\n",
    "model.add(MaxPooling2D(pool_size=(2, 2), strides=(2, 2)))\n",
    "model.add(Conv2D(64, (5, 5), activation='relu'))\n",
    "model.add(MaxPooling2D(pool_size=(2, 2)))\n",
    "model.add(Flatten())\n",
    "model.add(Dense(16, activation='relu'))\n",
    "model.add(Dense(num_classes, activation='softmax'))\n",
    "\n",
    "model.compile(loss=keras.losses.categorical_crossentropy,\n",
    "              optimizer=keras.optimizers.Adam(),\n",
    "              metrics=['accuracy'])\n",
    "\n",
    "\n",
    "model.fit(X_train, y_train,\n",
    "          batch_size=batch_size,\n",
    "          epochs=epochs,\n",
    "          verbose=1,\n",
    "          validation_data=(X_test, y_test),\n",
    "          callbacks=[history])\n",
    "\n",
    "train_score = model.evaluate(X_train, y_train, verbose=0)\n",
    "print('Train loss: {}, Train accuracy: {}'.format(train_score[0], train_score[1]))\n",
    "test_score = model.evaluate(X_test, test_y, verbose=0)\n",
    "print('Test loss: {}, Test accuracy: {}'.format(test_score[0], test_score[1]))"
   ]
  },
  {
   "cell_type": "code",
   "execution_count": 14,
   "metadata": {},
   "outputs": [
    {
     "data": {
      "image/png": "[encoded data removed]",
      "text/plain": [
       "<Figure size 432x288 with 1 Axes>"
      ]
     },
     "metadata": {},
     "output_type": "display_data"
    }
   ],
   "source": [
    "### Plot Losss\n",
    "def plot_loss():\n",
    "    acc = history.history['acc']\n",
    "    loss = history.history['loss']\n",
    "    val_loss = history.history['val_loss']\n",
    "    epochs = range(1, len(acc) + 1)\n",
    "    plt.figure()\n",
    "    plt.plot(epochs, loss, 'bo', label='Training loss')\n",
    "    plt.plot(epochs, val_loss, 'b', label='Validation loss')\n",
    "    plt.title('Training and validation loss')\n",
    "    plt.legend()\n",
    "    plt.show()\n",
    "\n",
    "plot_loss()"
   ]
  },
  {
   "cell_type": "code",
   "execution_count": 15,
   "metadata": {},
   "outputs": [
    {
     "data": {
      "image/png": "[encoded data removed]",
      "text/plain": [
       "<Figure size 432x288 with 1 Axes>"
      ]
     },
     "metadata": {},
     "output_type": "display_data"
    }
   ],
   "source": [
    "### Plot accuracy \n",
    "\n",
    "def plot_accuracy():\n",
    "    acc = history.history['acc']\n",
    "    val_acc = history.history['val_acc']\n",
    "    epochs = range(1, len(acc) + 1)\n",
    "    plt.figure()\n",
    "    plt.plot(epochs, acc, 'bo', label='Training acccuracy')\n",
    "    plt.plot(epochs, val_acc, 'b', label='Validation acccuracy')\n",
    "    plt.title('Training and validation accuracy')\n",
    "    plt.legend()\n",
    "    plt.show()\n",
    "    \n",
    "plot_accuracy()"
   ]
  }
 ],
 "metadata": {
  "kernelspec": {
   "display_name": "Python 3",
   "language": "python",
   "name": "python3"
  },
  "language_info": {
   "codemirror_mode": {
    "name": "ipython",
    "version": 3
   },
   "file_extension": ".py",
   "mimetype": "text/x-python",
   "name": "python",
   "nbconvert_exporter": "python",
   "pygments_lexer": "ipython3",
   "version": "3.6.5"
  }
 },
 "nbformat": 4,
 "nbformat_minor": 2
}
