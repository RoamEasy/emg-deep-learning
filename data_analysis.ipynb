{
 "cells": [
  {
   "cell_type": "markdown",
   "metadata": {},
   "source": [
    "# Get Data "
   ]
  },
  {
   "cell_type": "code",
   "execution_count": 2,
   "metadata": {},
   "outputs": [],
   "source": [
    "import pandas as pd\n",
    "import math \n",
    "import os\n",
    "import numpy as np\n",
    "\n",
    "data_type = 'num'\n",
    "sample = 'all'\n",
    "\n",
    "\n",
    "if data_type == 'word':\n",
    "    labels_count = 2\n",
    "else:\n",
    "    labels_count = 10 \n",
    "\n",
    "def generate_data(data_type, testing_subjects):\n",
    "    '''\n",
    "    returns a training test split based on files read from directory \n",
    "    :param data_type: pass either 'word' or 'num'\n",
    "    :param training_subjects: number of training subjects 2 or greater\n",
    "    :return: returns a traning and test dataframe \n",
    "    '''\n",
    "    testing = []\n",
    "    data_final = []\n",
    "    main_dir = os.listdir('data/subjects/') \n",
    "    steps = 1\n",
    "    for direc in main_dir: \n",
    "        if data_type in direc:\n",
    "            main_file = os.listdir('data/subjects/'+ direc)\n",
    "            for file in main_file:\n",
    "                if 'final' in file:\n",
    "                    data = pd.read_csv('data/subjects/'+ direc+'/'+file)\n",
    "                    data_final.append(data)\n",
    "                    \n",
    "    data = pd.concat(data_final, ignore_index = True)\n",
    "    data.dropna(inplace=True)\n",
    "    data.reset_index(inplace = True, drop = True)\n",
    "    return data\n",
    "\n",
    "\n",
    "if sample != 'all':\n",
    "    training = pd.read_csv('data/subjects/'+ sample +'/'+sample+'_final.csv')\n",
    "else:\n",
    "    training = generate_data(data_type, 2)"
   ]
  },
  {
   "cell_type": "code",
   "execution_count": 3,
   "metadata": {},
   "outputs": [
    {
     "data": {
      "text/plain": [
       "<Figure size 640x480 with 1 Axes>"
      ]
     },
     "metadata": {},
     "output_type": "display_data"
    }
   ],
   "source": [
    "import matplotlib.pyplot as plt\n",
    "import seaborn as sns\n",
    "\n",
    "# Right Jaw \n",
    "plt.plot('CH_1_mV', data = training)\n",
    "plt.show()"
   ]
  },
  {
   "cell_type": "code",
   "execution_count": 4,
   "metadata": {},
   "outputs": [
    {
     "data": {
      "image/png": "[encoded data removed]",
      "text/plain": [
       "<Figure size 432x288 with 1 Axes>"
      ]
     },
     "metadata": {},
     "output_type": "display_data"
    }
   ],
   "source": [
    "# Left Cheeck\n",
    "plt.plot('CH_2_mV', data= training,  color='orange')\n",
    "plt.show()"
   ]
  },
  {
   "cell_type": "code",
   "execution_count": 5,
   "metadata": {},
   "outputs": [
    {
     "data": {
      "image/png": "[encoded data removed]",
      "text/plain": [
       "<Figure size 432x288 with 1 Axes>"
      ]
     },
     "metadata": {},
     "output_type": "display_data"
    }
   ],
   "source": [
    "# Throat\n",
    "plt.plot('CH_3_mV', data= training,  color='green')\n",
    "plt.show()"
   ]
  },
  {
   "cell_type": "markdown",
   "metadata": {},
   "source": [
    "# Clean Data "
   ]
  },
  {
   "cell_type": "code",
   "execution_count": 6,
   "metadata": {},
   "outputs": [],
   "source": [
    "# add Low pass filter \n",
    "\n",
    "def low_pass(fc, b):\n",
    "    '''\n",
    "    :param fc: cutoff frequency\n",
    "    :param b: bandwidth\n",
    "    :return: low pass filter\n",
    "    '''\n",
    "    N = int(np.ceil((4 / b)))\n",
    "    if not N % 2: N += 1\n",
    "    n = np.arange(N)\n",
    "    sinc_func = np.sinc(2 * fc * (n - (N - 1) / 2.))\n",
    "    window = np.blackman(N)\n",
    "    sinc_func = sinc_func * window\n",
    "    sinc_func = sinc_func / np.sum(sinc_func)\n",
    "    return sinc_func\n",
    "\n",
    "# look up time-domain vs frequency domain relationship "
   ]
  },
  {
   "cell_type": "code",
   "execution_count": 7,
   "metadata": {},
   "outputs": [],
   "source": [
    "# add high pass filter\n",
    "\n",
    "def high_pass(fc, b):\n",
    "    '''\n",
    "    :param fc: cutoff frequency\n",
    "    :param b: bandwidth\n",
    "    :return: high pass filter\n",
    "    '''\n",
    "    N = int(np.ceil((4 / b)))\n",
    "    if not N % 2: N += 1\n",
    "    n = np.arange(N)\n",
    "\n",
    "    sinc_func = np.sinc(2 * fc * (n - (N - 1) / 2.))\n",
    "    window = np.blackman(N)\n",
    "    sinc_func = sinc_func * window\n",
    "    sinc_func = sinc_func / np.sum(sinc_func)\n",
    "\n",
    "    # reverse function\n",
    "    sinc_func = -sinc_func\n",
    "    sinc_func[int((N - 1) / 2)] += 1\n",
    "    return sinc_func\n",
    "\n",
    "# look up time-domain vs frequency domain relationship "
   ]
  },
  {
   "cell_type": "code",
   "execution_count": 8,
   "metadata": {},
   "outputs": [],
   "source": [
    "# Create new dataframe after filtering data \n",
    "\n",
    "def low_pass_data(fc,bw, data):\n",
    "    lp_filter = low_pass(fc,bw)\n",
    "    cln= {'CH_1_mV': np.convolve(data['CH_1_mV'], lp_filter), \n",
    "          'CH_2_mV': np.convolve(data['CH_2_mV'], lp_filter),\n",
    "          'CH_3_mV': np.convolve(data['CH_3_mV'], lp_filter)}\n",
    "    output = pd.DataFrame(cln)\n",
    "    diff = len(output)- len(data)\n",
    "    del_rows = diff/2\n",
    "    output = output.loc[del_rows:len(output)-del_rows-1]\n",
    "    output.dropna(inplace=True)\n",
    "    output.reset_index(inplace = True, drop = True)\n",
    "    output['Target'] = data['Target']\n",
    "    return output \n",
    "\n",
    "\n",
    "def high_pass_data(fc,bw, data):\n",
    "    hp_filter = high_pass(fc,bw)\n",
    "    cln= {'CH_1_mV': np.convolve(data['CH_1_mV'],hp_filter), \n",
    "          'CH_2_mV': np.convolve(data['CH_2_mV'],hp_filter),\n",
    "          'CH_3_mV': np.convolve(data['CH_3_mV'],hp_filter)}\n",
    "    output = pd.DataFrame(cln)\n",
    "    diff = len(output)- len(data)\n",
    "    del_rows = diff/2\n",
    "    output = output.loc[del_rows:len(output)-del_rows-1]\n",
    "    output.dropna(inplace=True)\n",
    "    output.reset_index(inplace = True, drop = True)\n",
    "    output['Target'] = data['Target']\n",
    "    return output \n",
    "\n",
    "def round_up_to_even(f):\n",
    "    return math.ceil(f / 2.) * 2\n",
    "\n",
    "\n",
    "low_pass_training = low_pass_data(0.02,0.08,training)\n",
    "filtered_training = high_pass_data(0.001,0.002, low_pass_training)"
   ]
  },
  {
   "cell_type": "code",
   "execution_count": 9,
   "metadata": {},
   "outputs": [
    {
     "data": {
      "image/png": "[encoded data removed]",
      "text/plain": [
       "<Figure size 432x288 with 1 Axes>"
      ]
     },
     "metadata": {},
     "output_type": "display_data"
    }
   ],
   "source": [
    "# Left Cheeck\n",
    "plt.plot('CH_2_mV', data= training, color='orange')\n",
    "plt.show()"
   ]
  },
  {
   "cell_type": "code",
   "execution_count": 10,
   "metadata": {},
   "outputs": [
    {
     "data": {
      "image/png": "[encoded data removed]",
      "text/plain": [
       "<Figure size 432x288 with 1 Axes>"
      ]
     },
     "metadata": {},
     "output_type": "display_data"
    }
   ],
   "source": [
    "# Left Cheeck\n",
    "plt.plot('CH_2_mV', data = low_pass_training,  color='orange')\n",
    "plt.show()"
   ]
  },
  {
   "cell_type": "code",
   "execution_count": 11,
   "metadata": {},
   "outputs": [
    {
     "data": {
      "image/png": "[encoded data removed]",
      "text/plain": [
       "<Figure size 432x288 with 1 Axes>"
      ]
     },
     "metadata": {},
     "output_type": "display_data"
    }
   ],
   "source": [
    "# Left Cheeck\n",
    "plt.plot('CH_2_mV', data = filtered_training,  color='orange')\n",
    "plt.show()"
   ]
  },
  {
   "cell_type": "code",
   "execution_count": 12,
   "metadata": {},
   "outputs": [
    {
     "data": {
      "text/plain": [
       "array(['relax', '1', '8', '5', '3', '9', '2', '6', '0', '7', '4'],\n",
       "      dtype=object)"
      ]
     },
     "execution_count": 12,
     "metadata": {},
     "output_type": "execute_result"
    }
   ],
   "source": [
    "filtered_training['Target'].unique()"
   ]
  },
  {
   "cell_type": "code",
   "execution_count": 13,
   "metadata": {},
   "outputs": [],
   "source": [
    "# deterime value ranges for targets \n",
    "import more_itertools as mit\n",
    "\n",
    "def min_max(data, val ='targets'):\n",
    "    targets = []\n",
    "    if val == 'targets':\n",
    "         values = data[data['Target'] != 'relax'].index.tolist()\n",
    "    else:\n",
    "         values = data[data['Target'] == 'relax'].index.tolist()\n",
    "    groups = [list(group) for group in mit.consecutive_groups(values)]\n",
    "    targets = [lst[0] for lst in groups]\n",
    "    return groups, targets \n",
    "\n",
    "groups, targets = min_max(filtered_training,'targets')\n",
    "groups_non, targets_non = min_max(filtered_training,val = 'non')"
   ]
  },
  {
   "cell_type": "markdown",
   "metadata": {},
   "source": [
    "# Visualize filtered data"
   ]
  },
  {
   "cell_type": "code",
   "execution_count": 14,
   "metadata": {},
   "outputs": [],
   "source": [
    " def create_plots(rows, data, item = 'all'):\n",
    "    '''\n",
    "    :param rows: rows from ranges of taget values \n",
    "    :param data: data frame to use\n",
    "    :return: plot of signals\n",
    "    '''\n",
    "    if item == data.iloc[min(rows) + 10]['Target'] or item == 'all':\n",
    "        \n",
    "        plt.figure(figsize=(25,5))\n",
    "\n",
    "        plt.subplot(1,4,1)\n",
    "        plt.plot(data['CH_1_mV'][min(rows):max(rows)])\n",
    "\n",
    "        plt.subplot(1,4,2)\n",
    "        plt.plot(data['CH_2_mV'][min(rows):max(rows)])\n",
    "\n",
    "        plt.subplot(1,4,3)\n",
    "        plt.plot(data['CH_3_mV'][min(rows):max(rows)])\n",
    "\n",
    "        plt.subplot(1,4,4)\n",
    "        plt.text(0.35, 0.5, data.iloc[min(rows) + 10]['Target'] , dict(size=25))\n",
    "\n",
    "        plt.show()"
   ]
  },
  {
   "cell_type": "code",
   "execution_count": 15,
   "metadata": {
    "scrolled": false
   },
   "outputs": [],
   "source": [
    "# # Plot Results \n",
    "# for rows in groups:\n",
    "#     create_plots(rows, filtered_training)"
   ]
  },
  {
   "cell_type": "code",
   "execution_count": 16,
   "metadata": {},
   "outputs": [],
   "source": [
    "# Find average length of each signal\n",
    "\n",
    "def max_len(groups):\n",
    "    avg_len = [(max(val)-min(val)) for val in groups]\n",
    "    avg = sum(avg_len)/len(avg_len)\n",
    "    return avg"
   ]
  },
  {
   "cell_type": "code",
   "execution_count": 17,
   "metadata": {},
   "outputs": [
    {
     "data": {
      "text/html": [
       "<div>\n",
       "<style scoped>\n",
       "    .dataframe tbody tr th:only-of-type {\n",
       "        vertical-align: middle;\n",
       "    }\n",
       "\n",
       "    .dataframe tbody tr th {\n",
       "        vertical-align: top;\n",
       "    }\n",
       "\n",
       "    .dataframe thead th {\n",
       "        text-align: right;\n",
       "    }\n",
       "</style>\n",
       "<table border=\"1\" class=\"dataframe\">\n",
       "  <thead>\n",
       "    <tr style=\"text-align: right;\">\n",
       "      <th></th>\n",
       "      <th>CH_1_mV</th>\n",
       "      <th>CH_2_mV</th>\n",
       "      <th>CH_3_mV</th>\n",
       "      <th>Target</th>\n",
       "    </tr>\n",
       "  </thead>\n",
       "  <tbody>\n",
       "    <tr>\n",
       "      <th>0</th>\n",
       "      <td>0.070894</td>\n",
       "      <td>0.209012</td>\n",
       "      <td>0.405313</td>\n",
       "      <td>relax</td>\n",
       "    </tr>\n",
       "    <tr>\n",
       "      <th>1</th>\n",
       "      <td>0.188202</td>\n",
       "      <td>0.549027</td>\n",
       "      <td>1.060028</td>\n",
       "      <td>relax</td>\n",
       "    </tr>\n",
       "    <tr>\n",
       "      <th>2</th>\n",
       "      <td>0.302280</td>\n",
       "      <td>0.879498</td>\n",
       "      <td>1.696408</td>\n",
       "      <td>relax</td>\n",
       "    </tr>\n",
       "    <tr>\n",
       "      <th>3</th>\n",
       "      <td>0.411115</td>\n",
       "      <td>1.194588</td>\n",
       "      <td>2.303212</td>\n",
       "      <td>relax</td>\n",
       "    </tr>\n",
       "    <tr>\n",
       "      <th>4</th>\n",
       "      <td>0.512942</td>\n",
       "      <td>1.489198</td>\n",
       "      <td>2.870617</td>\n",
       "      <td>relax</td>\n",
       "    </tr>\n",
       "  </tbody>\n",
       "</table>\n",
       "</div>"
      ],
      "text/plain": [
       "    CH_1_mV   CH_2_mV   CH_3_mV Target\n",
       "0  0.070894  0.209012  0.405313  relax\n",
       "1  0.188202  0.549027  1.060028  relax\n",
       "2  0.302280  0.879498  1.696408  relax\n",
       "3  0.411115  1.194588  2.303212  relax\n",
       "4  0.512942  1.489198  2.870617  relax"
      ]
     },
     "execution_count": 17,
     "metadata": {},
     "output_type": "execute_result"
    }
   ],
   "source": [
    "filtered_training.head()"
   ]
  },
  {
   "cell_type": "markdown",
   "metadata": {},
   "source": [
    "# Transform Data "
   ]
  },
  {
   "cell_type": "code",
   "execution_count": 18,
   "metadata": {},
   "outputs": [],
   "source": [
    "from sklearn.preprocessing import StandardScaler,MinMaxScaler\n",
    "\n",
    "val = 'z'\n",
    "\n",
    "filtered_training = filtered_training.copy()\n",
    "col_names = list(filtered_training.columns[:-1])\n",
    "features = filtered_training[col_names]\n",
    "if val == 'z':\n",
    "    scaler = StandardScaler().fit(features.values)\n",
    "    features = scaler.transform(features.values)\n",
    "    filtered_training[col_names] = features\n",
    "else:\n",
    "    scaler = MinMaxScaler().fit(features.values)\n",
    "    features = scaler.transform(features.values)\n",
    "    filtered_training[col_names] = features"
   ]
  },
  {
   "cell_type": "code",
   "execution_count": 19,
   "metadata": {},
   "outputs": [],
   "source": [
    "# # Transform data with normaizliation \n",
    "# def trans_data_train(df, val = 'z'):\n",
    "#     for col in df:\n",
    "#         if col not in ['Target']:\n",
    "#             if val == 'z':  \n",
    "#                 #take the z-score \n",
    "#                 df[col] = (df[col] - df[col].mean())/df[col].std(ddof=0)\n",
    "#             else:\n",
    "#                 #normaizize data between [0,1]\n",
    "#                 df[col]=(df[col]-df[col].min())/(df[col].max()-df[col].min())\n",
    "         \n",
    "        \n",
    "# def trans_data_test(df_test, df_train, val ='z'):\n",
    "#     for col in df_test:\n",
    "#         if col not in ['Target']:\n",
    "#             if val == 'z':\n",
    "#                 #take the z-score \n",
    "#                 df_test[col] = (df_test[col] - df_train[col].mean())/df_train[col].std(ddof=0)\n",
    "#             else:\n",
    "#                 #normaizize data between [0,1]\n",
    "#                 df_test[col]=(df_test[col]-df_test[col].min())/(df_test[col].max()-df_test[col].min())                                  \n",
    "                \n",
    "# trans_data_train(filtered_training,'z')"
   ]
  },
  {
   "cell_type": "code",
   "execution_count": 20,
   "metadata": {},
   "outputs": [],
   "source": [
    "# Transform Target column to intergers \n",
    "\n",
    "def new_cat_word(row):\n",
    "    if row == 'relax':\n",
    "        return 99\n",
    "    if row == 'no':\n",
    "        return 0\n",
    "    else:\n",
    "        return 1\n",
    "    \n",
    "def new_cat_num(row):\n",
    "    if row == 'relax':\n",
    "        return 99\n",
    "    if row == '1':\n",
    "        return 1\n",
    "    if row == '2':\n",
    "        return 2\n",
    "    if row == '3':\n",
    "        return 3\n",
    "    if row == '4':\n",
    "        return 4\n",
    "    if row == '5':\n",
    "        return 5\n",
    "    if row == '6':\n",
    "        return 6\n",
    "    if row == '7':\n",
    "        return 7\n",
    "    if row == '8':\n",
    "        return 8\n",
    "    if row == '9':\n",
    "        return 9\n",
    "    if row == '0':\n",
    "        return 0\n",
    "\n",
    "def target_col(val='num'):\n",
    "    if val == 'num':\n",
    "        filtered_training['Target'] = filtered_training['Target'].apply(new_cat_num)\n",
    "    else:\n",
    "        filtered_training['Target'] = filtered_training['Target'].apply(new_cat_word)\n",
    "\n",
    "        \n",
    "target_col(data_type)"
   ]
  },
  {
   "cell_type": "code",
   "execution_count": 21,
   "metadata": {},
   "outputs": [
    {
     "data": {
      "text/html": [
       "<div>\n",
       "<style scoped>\n",
       "    .dataframe tbody tr th:only-of-type {\n",
       "        vertical-align: middle;\n",
       "    }\n",
       "\n",
       "    .dataframe tbody tr th {\n",
       "        vertical-align: top;\n",
       "    }\n",
       "\n",
       "    .dataframe thead th {\n",
       "        text-align: right;\n",
       "    }\n",
       "</style>\n",
       "<table border=\"1\" class=\"dataframe\">\n",
       "  <thead>\n",
       "    <tr style=\"text-align: right;\">\n",
       "      <th></th>\n",
       "      <th>CH_1_mV</th>\n",
       "      <th>CH_2_mV</th>\n",
       "      <th>CH_3_mV</th>\n",
       "      <th>Target</th>\n",
       "    </tr>\n",
       "  </thead>\n",
       "  <tbody>\n",
       "    <tr>\n",
       "      <th>0</th>\n",
       "      <td>0.303635</td>\n",
       "      <td>0.883556</td>\n",
       "      <td>1.494546</td>\n",
       "      <td>99</td>\n",
       "    </tr>\n",
       "    <tr>\n",
       "      <th>1</th>\n",
       "      <td>0.806139</td>\n",
       "      <td>2.329249</td>\n",
       "      <td>3.908743</td>\n",
       "      <td>99</td>\n",
       "    </tr>\n",
       "    <tr>\n",
       "      <th>2</th>\n",
       "      <td>1.294812</td>\n",
       "      <td>3.734362</td>\n",
       "      <td>6.255331</td>\n",
       "      <td>99</td>\n",
       "    </tr>\n",
       "    <tr>\n",
       "      <th>3</th>\n",
       "      <td>1.761024</td>\n",
       "      <td>5.074077</td>\n",
       "      <td>8.492862</td>\n",
       "      <td>99</td>\n",
       "    </tr>\n",
       "    <tr>\n",
       "      <th>4</th>\n",
       "      <td>2.197216</td>\n",
       "      <td>6.326712</td>\n",
       "      <td>10.585111</td>\n",
       "      <td>99</td>\n",
       "    </tr>\n",
       "  </tbody>\n",
       "</table>\n",
       "</div>"
      ],
      "text/plain": [
       "    CH_1_mV   CH_2_mV    CH_3_mV  Target\n",
       "0  0.303635  0.883556   1.494546      99\n",
       "1  0.806139  2.329249   3.908743      99\n",
       "2  1.294812  3.734362   6.255331      99\n",
       "3  1.761024  5.074077   8.492862      99\n",
       "4  2.197216  6.326712  10.585111      99"
      ]
     },
     "execution_count": 21,
     "metadata": {},
     "output_type": "execute_result"
    }
   ],
   "source": [
    "filtered_training.head()"
   ]
  },
  {
   "cell_type": "code",
   "execution_count": 22,
   "metadata": {},
   "outputs": [
    {
     "data": {
      "image/png": "[encoded data removed]",
      "text/plain": [
       "<Figure size 432x288 with 1 Axes>"
      ]
     },
     "metadata": {},
     "output_type": "display_data"
    }
   ],
   "source": [
    "# Left Cheeck\n",
    "plt.plot('CH_2_mV', data = filtered_training[3000:4000],  color='orange')\n",
    "plt.show()"
   ]
  },
  {
   "cell_type": "code",
   "execution_count": 23,
   "metadata": {},
   "outputs": [],
   "source": [
    "# split the data \n",
    "from sklearn.model_selection import train_test_split\n",
    "\n",
    "X_train_val, X_test_val, y_train_val, y_test_val = train_test_split(groups,targets, \n",
    "                                                    test_size=0.10, random_state=42)"
   ]
  },
  {
   "cell_type": "code",
   "execution_count": 24,
   "metadata": {},
   "outputs": [],
   "source": [
    "X_train = [filtered_training[['CH_1_mV', 'CH_2_mV', 'CH_3_mV']].loc[min(val):max(val)].values for val in X_train_val]\n",
    "y_train = [filtered_training['Target'][val] for val in y_train_val]\n",
    "X_test = [filtered_training[['CH_1_mV', 'CH_2_mV','CH_3_mV']].loc[min(val):max(val)].values for val in X_test_val]\n",
    "y_test = [filtered_training['Target'][val] for val in y_test_val]"
   ]
  },
  {
   "cell_type": "markdown",
   "metadata": {},
   "source": [
    "# Shape Data"
   ]
  },
  {
   "cell_type": "code",
   "execution_count": 25,
   "metadata": {},
   "outputs": [
    {
     "name": "stderr",
     "output_type": "stream",
     "text": [
      "/home/rommeltf/anaconda3/lib/python3.6/site-packages/h5py/__init__.py:36: FutureWarning: Conversion of the second argument of issubdtype from `float` to `np.floating` is deprecated. In future, it will be treated as `np.float64 == np.dtype(float).type`.\n",
      "  from ._conv import register_converters as _register_converters\n",
      "Using TensorFlow backend.\n"
     ]
    }
   ],
   "source": [
    "from keras.preprocessing import sequence\n",
    "import tensorflow as tf\n",
    "\n",
    "max_length = round_up_to_even(max_len(groups))\n",
    "\n",
    "X_train = sequence.pad_sequences(X_train, dtype ='float32', maxlen = max_length, padding = 'post', truncating = 'post')\n",
    "y_train = np.array(y_train)\n",
    "X_test = sequence.pad_sequences(X_test, dtype ='float32', maxlen = max_length, padding = 'post', truncating = 'post')\n",
    "y_test = np.array(y_test)"
   ]
  },
  {
   "cell_type": "code",
   "execution_count": 26,
   "metadata": {},
   "outputs": [
    {
     "data": {
      "text/plain": [
       "(399, 1018, 3)"
      ]
     },
     "execution_count": 26,
     "metadata": {},
     "output_type": "execute_result"
    }
   ],
   "source": [
    "X_train.shape"
   ]
  },
  {
   "cell_type": "code",
   "execution_count": 27,
   "metadata": {},
   "outputs": [
    {
     "data": {
      "text/plain": [
       "(399,)"
      ]
     },
     "execution_count": 27,
     "metadata": {},
     "output_type": "execute_result"
    }
   ],
   "source": [
    "y_train.shape"
   ]
  },
  {
   "cell_type": "code",
   "execution_count": 28,
   "metadata": {},
   "outputs": [
    {
     "data": {
      "text/plain": [
       "(45, 1018, 3)"
      ]
     },
     "execution_count": 28,
     "metadata": {},
     "output_type": "execute_result"
    }
   ],
   "source": [
    "X_test.shape"
   ]
  },
  {
   "cell_type": "code",
   "execution_count": 29,
   "metadata": {},
   "outputs": [
    {
     "data": {
      "text/plain": [
       "(45,)"
      ]
     },
     "execution_count": 29,
     "metadata": {},
     "output_type": "execute_result"
    }
   ],
   "source": [
    "y_test.shape"
   ]
  },
  {
   "cell_type": "markdown",
   "metadata": {},
   "source": [
    "# Save Data "
   ]
  },
  {
   "cell_type": "code",
   "execution_count": 30,
   "metadata": {},
   "outputs": [],
   "source": [
    "np.save('data/X_train', X_train)\n",
    "np.save('data/X_test', X_test)\n",
    "np.save('data/y_train', y_train)\n",
    "np.save('data/y_test', y_test)\n",
    "np.save('data/max', max_length)"
   ]
  }
 ],
 "metadata": {
  "kernelspec": {
   "display_name": "Python 3",
   "language": "python",
   "name": "python3"
  },
  "language_info": {
   "codemirror_mode": {
    "name": "ipython",
    "version": 3
   },
   "file_extension": ".py",
   "mimetype": "text/x-python",
   "name": "python",
   "nbconvert_exporter": "python",
   "pygments_lexer": "ipython3",
   "version": "3.6.5"
  }
 },
 "nbformat": 4,
 "nbformat_minor": 2
}
